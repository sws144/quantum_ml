{
 "cells": [
  {
   "cell_type": "markdown",
   "id": "9dc10578",
   "metadata": {},
   "source": [
    "# Testing"
   ]
  },
  {
   "cell_type": "code",
   "execution_count": 19,
   "id": "56f13983",
   "metadata": {
    "ExecuteTime": {
     "end_time": "2022-12-19T00:57:42.455413Z",
     "start_time": "2022-12-19T00:57:42.440417Z"
    }
   },
   "outputs": [],
   "source": [
    "from quantum_ml import metrics"
   ]
  },
  {
   "cell_type": "code",
   "execution_count": 20,
   "id": "1554ad6e",
   "metadata": {
    "ExecuteTime": {
     "end_time": "2022-12-19T00:57:42.471415Z",
     "start_time": "2022-12-19T00:57:42.463413Z"
    },
    "scrolled": true
   },
   "outputs": [],
   "source": [
    "import numpy as np"
   ]
  },
  {
   "cell_type": "code",
   "execution_count": 21,
   "id": "b3536bdc",
   "metadata": {
    "ExecuteTime": {
     "end_time": "2022-12-19T00:57:42.487414Z",
     "start_time": "2022-12-19T00:57:42.475415Z"
    }
   },
   "outputs": [],
   "source": [
    "import pandas as pd\n",
    "import matplotlib.pyplot as plt"
   ]
  },
  {
   "cell_type": "code",
   "execution_count": 22,
   "id": "7a1a10cb",
   "metadata": {
    "ExecuteTime": {
     "end_time": "2022-12-19T00:57:42.503945Z",
     "start_time": "2022-12-19T00:57:42.491426Z"
    }
   },
   "outputs": [],
   "source": [
    "y_true = [100, 2, 3, 4, 1]\n",
    "y_pred = [100, 2, 3, 4, 1]\n",
    "sample_weight = [1, 1, 1, 1, 10]"
   ]
  },
  {
   "cell_type": "code",
   "execution_count": 23,
   "id": "15579cc5",
   "metadata": {
    "ExecuteTime": {
     "end_time": "2022-12-19T00:57:42.519411Z",
     "start_time": "2022-12-19T00:57:42.508432Z"
    }
   },
   "outputs": [
    {
     "data": {
      "text/plain": [
       "array([4, 1, 2, 3, 0], dtype=int64)"
      ]
     },
     "execution_count": 23,
     "metadata": {},
     "output_type": "execute_result"
    }
   ],
   "source": [
    "sorted_indices = np.argsort(y_pred)\n",
    "sorted_indices"
   ]
  },
  {
   "cell_type": "code",
   "execution_count": 24,
   "id": "9a1302ea",
   "metadata": {
    "ExecuteTime": {
     "end_time": "2022-12-19T00:57:42.535414Z",
     "start_time": "2022-12-19T00:57:42.523415Z"
    }
   },
   "outputs": [],
   "source": [
    "sample_weight = np.asarray(sample_weight)\n",
    "sample_weight\n",
    "y_true =  np.asarray(y_true)\n",
    "y_pred = np.asarray(y_pred)"
   ]
  },
  {
   "cell_type": "code",
   "execution_count": 25,
   "id": "61a044ad",
   "metadata": {
    "ExecuteTime": {
     "end_time": "2022-12-19T00:57:42.551416Z",
     "start_time": "2022-12-19T00:57:42.540420Z"
    }
   },
   "outputs": [],
   "source": [
    "sorted_df = pd.DataFrame({\n",
    "    \"y_true\":y_true[sorted_indices],\n",
    "    \"y_pred\":y_pred[sorted_indices],\n",
    "    \"sample_weight\":sample_weight[sorted_indices],\n",
    "}\n",
    ")"
   ]
  },
  {
   "cell_type": "code",
   "execution_count": 26,
   "id": "33f9feaf",
   "metadata": {
    "ExecuteTime": {
     "end_time": "2022-12-19T00:57:42.583410Z",
     "start_time": "2022-12-19T00:57:42.558413Z"
    },
    "scrolled": true
   },
   "outputs": [
    {
     "data": {
      "text/html": [
       "<div>\n",
       "<style scoped>\n",
       "    .dataframe tbody tr th:only-of-type {\n",
       "        vertical-align: middle;\n",
       "    }\n",
       "\n",
       "    .dataframe tbody tr th {\n",
       "        vertical-align: top;\n",
       "    }\n",
       "\n",
       "    .dataframe thead th {\n",
       "        text-align: right;\n",
       "    }\n",
       "</style>\n",
       "<table border=\"1\" class=\"dataframe\">\n",
       "  <thead>\n",
       "    <tr style=\"text-align: right;\">\n",
       "      <th></th>\n",
       "      <th>y_true</th>\n",
       "      <th>y_pred</th>\n",
       "      <th>sample_weight</th>\n",
       "    </tr>\n",
       "  </thead>\n",
       "  <tbody>\n",
       "    <tr>\n",
       "      <th>0</th>\n",
       "      <td>1</td>\n",
       "      <td>1</td>\n",
       "      <td>10</td>\n",
       "    </tr>\n",
       "    <tr>\n",
       "      <th>1</th>\n",
       "      <td>2</td>\n",
       "      <td>2</td>\n",
       "      <td>1</td>\n",
       "    </tr>\n",
       "    <tr>\n",
       "      <th>2</th>\n",
       "      <td>3</td>\n",
       "      <td>3</td>\n",
       "      <td>1</td>\n",
       "    </tr>\n",
       "    <tr>\n",
       "      <th>3</th>\n",
       "      <td>4</td>\n",
       "      <td>4</td>\n",
       "      <td>1</td>\n",
       "    </tr>\n",
       "    <tr>\n",
       "      <th>4</th>\n",
       "      <td>100</td>\n",
       "      <td>100</td>\n",
       "      <td>1</td>\n",
       "    </tr>\n",
       "  </tbody>\n",
       "</table>\n",
       "</div>"
      ],
      "text/plain": [
       "   y_true  y_pred  sample_weight\n",
       "0       1       1             10\n",
       "1       2       2              1\n",
       "2       3       3              1\n",
       "3       4       4              1\n",
       "4     100     100              1"
      ]
     },
     "execution_count": 26,
     "metadata": {},
     "output_type": "execute_result"
    }
   ],
   "source": [
    "sorted_df"
   ]
  },
  {
   "cell_type": "code",
   "execution_count": 27,
   "id": "f873026f",
   "metadata": {
    "ExecuteTime": {
     "end_time": "2022-12-19T00:57:42.614417Z",
     "start_time": "2022-12-19T00:57:42.586412Z"
    }
   },
   "outputs": [
    {
     "data": {
      "text/plain": [
       "0    (0.999, 2.333]\n",
       "1    (0.999, 2.333]\n",
       "2    (2.333, 3.667]\n",
       "3    (3.667, 100.0]\n",
       "4    (3.667, 100.0]\n",
       "Name: y_pred, dtype: category\n",
       "Categories (3, interval[float64, right]): [(0.999, 2.333] < (2.333, 3.667] < (3.667, 100.0]]"
      ]
     },
     "execution_count": 27,
     "metadata": {},
     "output_type": "execute_result"
    }
   ],
   "source": [
    "out = pd.qcut(sorted_df[\"y_pred\"], 3,duplicates=\"drop\")\n",
    "out"
   ]
  },
  {
   "cell_type": "code",
   "execution_count": 28,
   "id": "122b2a13",
   "metadata": {
    "ExecuteTime": {
     "end_time": "2022-12-19T00:57:42.644411Z",
     "start_time": "2022-12-19T00:57:42.630415Z"
    }
   },
   "outputs": [],
   "source": [
    "sorted_df['pred_group'] = out"
   ]
  },
  {
   "cell_type": "code",
   "execution_count": 29,
   "id": "977a8d08",
   "metadata": {
    "ExecuteTime": {
     "end_time": "2022-12-19T00:57:42.675444Z",
     "start_time": "2022-12-19T00:57:42.649412Z"
    }
   },
   "outputs": [
    {
     "data": {
      "text/html": [
       "<div>\n",
       "<style scoped>\n",
       "    .dataframe tbody tr th:only-of-type {\n",
       "        vertical-align: middle;\n",
       "    }\n",
       "\n",
       "    .dataframe tbody tr th {\n",
       "        vertical-align: top;\n",
       "    }\n",
       "\n",
       "    .dataframe thead th {\n",
       "        text-align: right;\n",
       "    }\n",
       "</style>\n",
       "<table border=\"1\" class=\"dataframe\">\n",
       "  <thead>\n",
       "    <tr style=\"text-align: right;\">\n",
       "      <th></th>\n",
       "      <th>y_true</th>\n",
       "      <th>y_pred</th>\n",
       "      <th>sample_weight</th>\n",
       "      <th>pred_group</th>\n",
       "    </tr>\n",
       "  </thead>\n",
       "  <tbody>\n",
       "    <tr>\n",
       "      <th>0</th>\n",
       "      <td>1</td>\n",
       "      <td>1</td>\n",
       "      <td>10</td>\n",
       "      <td>(0.999, 2.333]</td>\n",
       "    </tr>\n",
       "    <tr>\n",
       "      <th>1</th>\n",
       "      <td>2</td>\n",
       "      <td>2</td>\n",
       "      <td>1</td>\n",
       "      <td>(0.999, 2.333]</td>\n",
       "    </tr>\n",
       "    <tr>\n",
       "      <th>2</th>\n",
       "      <td>3</td>\n",
       "      <td>3</td>\n",
       "      <td>1</td>\n",
       "      <td>(2.333, 3.667]</td>\n",
       "    </tr>\n",
       "    <tr>\n",
       "      <th>3</th>\n",
       "      <td>4</td>\n",
       "      <td>4</td>\n",
       "      <td>1</td>\n",
       "      <td>(3.667, 100.0]</td>\n",
       "    </tr>\n",
       "    <tr>\n",
       "      <th>4</th>\n",
       "      <td>100</td>\n",
       "      <td>100</td>\n",
       "      <td>1</td>\n",
       "      <td>(3.667, 100.0]</td>\n",
       "    </tr>\n",
       "  </tbody>\n",
       "</table>\n",
       "</div>"
      ],
      "text/plain": [
       "   y_true  y_pred  sample_weight      pred_group\n",
       "0       1       1             10  (0.999, 2.333]\n",
       "1       2       2              1  (0.999, 2.333]\n",
       "2       3       3              1  (2.333, 3.667]\n",
       "3       4       4              1  (3.667, 100.0]\n",
       "4     100     100              1  (3.667, 100.0]"
      ]
     },
     "execution_count": 29,
     "metadata": {},
     "output_type": "execute_result"
    }
   ],
   "source": [
    "sorted_df"
   ]
  },
  {
   "cell_type": "code",
   "execution_count": 30,
   "id": "c1f5b0c2",
   "metadata": {
    "ExecuteTime": {
     "end_time": "2022-12-19T00:57:42.738412Z",
     "start_time": "2022-12-19T00:57:42.682442Z"
    }
   },
   "outputs": [
    {
     "data": {
      "text/html": [
       "<div>\n",
       "<style scoped>\n",
       "    .dataframe tbody tr th:only-of-type {\n",
       "        vertical-align: middle;\n",
       "    }\n",
       "\n",
       "    .dataframe tbody tr th {\n",
       "        vertical-align: top;\n",
       "    }\n",
       "\n",
       "    .dataframe thead th {\n",
       "        text-align: right;\n",
       "    }\n",
       "</style>\n",
       "<table border=\"1\" class=\"dataframe\">\n",
       "  <thead>\n",
       "    <tr style=\"text-align: right;\">\n",
       "      <th></th>\n",
       "      <th>y_true</th>\n",
       "      <th>y_pred</th>\n",
       "      <th>sample_weight</th>\n",
       "    </tr>\n",
       "    <tr>\n",
       "      <th>pred_group</th>\n",
       "      <th></th>\n",
       "      <th></th>\n",
       "      <th></th>\n",
       "    </tr>\n",
       "  </thead>\n",
       "  <tbody>\n",
       "    <tr>\n",
       "      <th>(0.999, 2.333]</th>\n",
       "      <td>1.5</td>\n",
       "      <td>1.5</td>\n",
       "      <td>11</td>\n",
       "    </tr>\n",
       "    <tr>\n",
       "      <th>(2.333, 3.667]</th>\n",
       "      <td>3.0</td>\n",
       "      <td>3.0</td>\n",
       "      <td>1</td>\n",
       "    </tr>\n",
       "    <tr>\n",
       "      <th>(3.667, 100.0]</th>\n",
       "      <td>52.0</td>\n",
       "      <td>52.0</td>\n",
       "      <td>2</td>\n",
       "    </tr>\n",
       "  </tbody>\n",
       "</table>\n",
       "</div>"
      ],
      "text/plain": [
       "                y_true  y_pred  sample_weight\n",
       "pred_group                                   \n",
       "(0.999, 2.333]     1.5     1.5             11\n",
       "(2.333, 3.667]     3.0     3.0              1\n",
       "(3.667, 100.0]    52.0    52.0              2"
      ]
     },
     "execution_count": 30,
     "metadata": {},
     "output_type": "execute_result"
    }
   ],
   "source": [
    "grouped_df = sorted_df.groupby('pred_group').mean()[[\"y_true\",\"y_pred\"]].join(sorted_df.groupby('pred_group').sum()[[\"sample_weight\"]])\n",
    "grouped_df"
   ]
  },
  {
   "cell_type": "code",
   "execution_count": 31,
   "id": "bd7ffece",
   "metadata": {
    "ExecuteTime": {
     "end_time": "2022-12-19T00:57:43.051522Z",
     "start_time": "2022-12-19T00:57:42.742413Z"
    }
   },
   "outputs": [
    {
     "data": {
      "text/plain": [
       "<AxesSubplot: xlabel='pred_group'>"
      ]
     },
     "execution_count": 31,
     "metadata": {},
     "output_type": "execute_result"
    },
    {
     "data": {
      "image/png": "[encoded data removed]",
      "text/plain": [
       "<Figure size 640x480 with 1 Axes>"
      ]
     },
     "metadata": {},
     "output_type": "display_data"
    }
   ],
   "source": [
    "grouped_df.plot()"
   ]
  },
  {
   "cell_type": "code",
   "execution_count": 32,
   "id": "dc8b7ec6",
   "metadata": {
    "ExecuteTime": {
     "end_time": "2022-12-19T00:57:43.444623Z",
     "start_time": "2022-12-19T00:57:43.057064Z"
    },
    "scrolled": false
   },
   "outputs": [
    {
     "data": {
      "image/png": "[encoded data removed]",
      "text/plain": [
       "<Figure size 640x480 with 2 Axes>"
      ]
     },
     "metadata": {},
     "output_type": "display_data"
    }
   ],
   "source": [
    "fig, ax = plt.subplots()\n",
    "ax2 = ax.twinx()\n",
    "\n",
    "grouped_df[['y_true','y_pred']].plot(linestyle='-',marker='o',ax=ax)\n",
    "grouped_df['sample_weight'].plot(kind='bar',ax=ax2, alpha=0.25)\n",
    "\n",
    "plt.show()"
   ]
  },
  {
   "cell_type": "code",
   "execution_count": 33,
   "id": "33a8e90d",
   "metadata": {
    "ExecuteTime": {
     "end_time": "2022-12-19T00:57:43.474626Z",
     "start_time": "2022-12-19T00:57:43.448624Z"
    }
   },
   "outputs": [
    {
     "data": {
      "text/html": [
       "<div>\n",
       "<style scoped>\n",
       "    .dataframe tbody tr th:only-of-type {\n",
       "        vertical-align: middle;\n",
       "    }\n",
       "\n",
       "    .dataframe tbody tr th {\n",
       "        vertical-align: top;\n",
       "    }\n",
       "\n",
       "    .dataframe thead th {\n",
       "        text-align: right;\n",
       "    }\n",
       "</style>\n",
       "<table border=\"1\" class=\"dataframe\">\n",
       "  <thead>\n",
       "    <tr style=\"text-align: right;\">\n",
       "      <th></th>\n",
       "      <th>y_true</th>\n",
       "      <th>y_pred</th>\n",
       "      <th>sample_weight</th>\n",
       "    </tr>\n",
       "    <tr>\n",
       "      <th>pred_group</th>\n",
       "      <th></th>\n",
       "      <th></th>\n",
       "      <th></th>\n",
       "    </tr>\n",
       "  </thead>\n",
       "  <tbody>\n",
       "    <tr>\n",
       "      <th>(0.999, 2.333]</th>\n",
       "      <td>1.5</td>\n",
       "      <td>1.5</td>\n",
       "      <td>11</td>\n",
       "    </tr>\n",
       "    <tr>\n",
       "      <th>(2.333, 3.667]</th>\n",
       "      <td>3.0</td>\n",
       "      <td>3.0</td>\n",
       "      <td>1</td>\n",
       "    </tr>\n",
       "    <tr>\n",
       "      <th>(3.667, 100.0]</th>\n",
       "      <td>52.0</td>\n",
       "      <td>52.0</td>\n",
       "      <td>2</td>\n",
       "    </tr>\n",
       "  </tbody>\n",
       "</table>\n",
       "</div>"
      ],
      "text/plain": [
       "                y_true  y_pred  sample_weight\n",
       "pred_group                                   \n",
       "(0.999, 2.333]     1.5     1.5             11\n",
       "(2.333, 3.667]     3.0     3.0              1\n",
       "(3.667, 100.0]    52.0    52.0              2"
      ]
     },
     "execution_count": 33,
     "metadata": {},
     "output_type": "execute_result"
    }
   ],
   "source": [
    "grouped_df"
   ]
  },
  {
   "cell_type": "markdown",
   "id": "c68205b5",
   "metadata": {},
   "source": [
    "## Test 2"
   ]
  },
  {
   "cell_type": "code",
   "execution_count": 34,
   "id": "d6e28a73",
   "metadata": {
    "ExecuteTime": {
     "end_time": "2022-12-19T00:57:43.490639Z",
     "start_time": "2022-12-19T00:57:43.480622Z"
    }
   },
   "outputs": [],
   "source": [
    "from quantum_ml import metrics"
   ]
  },
  {
   "cell_type": "code",
   "execution_count": 35,
   "id": "b2ecf7ec",
   "metadata": {
    "ExecuteTime": {
     "end_time": "2022-12-19T00:57:43.506622Z",
     "start_time": "2022-12-19T00:57:43.496623Z"
    }
   },
   "outputs": [
    {
     "data": {
      "text/plain": [
       "['__builtins__',\n",
       " '__cached__',\n",
       " '__doc__',\n",
       " '__file__',\n",
       " '__loader__',\n",
       " '__name__',\n",
       " '__package__',\n",
       " '__spec__',\n",
       " 'gini',\n",
       " 'ginierror',\n",
       " 'group_data',\n",
       " 'mean_absolute_error',\n",
       " 'np',\n",
       " 'pd',\n",
       " 'plt']"
      ]
     },
     "execution_count": 35,
     "metadata": {},
     "output_type": "execute_result"
    }
   ],
   "source": [
    "dir(metrics)"
   ]
  },
  {
   "cell_type": "code",
   "execution_count": 36,
   "id": "d41bf7e1",
   "metadata": {
    "ExecuteTime": {
     "end_time": "2022-12-19T00:57:43.822674Z",
     "start_time": "2022-12-19T00:57:43.512625Z"
    }
   },
   "outputs": [
    {
     "data": {
      "image/png": "[encoded data removed]",
      "text/plain": [
       "<Figure size 640x480 with 2 Axes>"
      ]
     },
     "metadata": {},
     "output_type": "display_data"
    },
    {
     "data": {
      "text/plain": [
       "0.8694246929541047"
      ]
     },
     "execution_count": 36,
     "metadata": {},
     "output_type": "execute_result"
    }
   ],
   "source": [
    "metrics.ginierror(y_true, y_pred ,sample_weight )"
   ]
  },
  {
   "cell_type": "code",
   "execution_count": null,
   "id": "b822a66d",
   "metadata": {},
   "outputs": [],
   "source": []
  }
 ],
 "metadata": {
  "jupytext": {
   "formats": "ipynb,py:percent"
  },
  "kernelspec": {
   "display_name": "quantum_ml",
   "language": "python",
   "name": "quantum_ml"
  },
  "language_info": {
   "codemirror_mode": {
    "name": "ipython",
    "version": 3
   },
   "file_extension": ".py",
   "mimetype": "text/x-python",
   "name": "python",
   "nbconvert_exporter": "python",
   "pygments_lexer": "ipython3",
   "version": "3.8.10"
  },
  "toc": {
   "base_numbering": 1,
   "nav_menu": {},
   "number_sections": true,
   "sideBar": true,
   "skip_h1_title": false,
   "title_cell": "Table of Contents",
   "title_sidebar": "Contents",
   "toc_cell": false,
   "toc_position": {
    "height": "calc(100% - 180px)",
    "left": "10px",
    "top": "150px",
    "width": "384px"
   },
   "toc_section_display": true,
   "toc_window_display": true
  },
  "varInspector": {
   "cols": {
    "lenName": 16,
    "lenType": 16,
    "lenVar": 40
   },
   "kernels_config": {
    "python": {
     "delete_cmd_postfix": "",
     "delete_cmd_prefix": "del ",
     "library": "var_list.py",
     "varRefreshCmd": "print(var_dic_list())"
    },
    "r": {
     "delete_cmd_postfix": ") ",
     "delete_cmd_prefix": "rm(",
     "library": "var_list.r",
     "varRefreshCmd": "cat(var_dic_list()) "
    }
   },
   "types_to_exclude": [
    "module",
    "function",
    "builtin_function_or_method",
    "instance",
    "_Feature"
   ],
   "window_display": true
  }
 },
 "nbformat": 4,
 "nbformat_minor": 5
}
